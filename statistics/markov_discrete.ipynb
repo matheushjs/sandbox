{
 "cells": [
  {
   "cell_type": "code",
   "execution_count": 1,
   "metadata": {},
   "outputs": [],
   "source": [
    "import numpy as np"
   ]
  },
  {
   "cell_type": "code",
   "execution_count": 2,
   "metadata": {},
   "outputs": [
    {
     "data": {
      "text/plain": [
       "matrix([[0.54, 0.26, 0.2 ],\n",
       "        [0.2 , 0.36, 0.44],\n",
       "        [0.6 , 0.1 , 0.3 ]])"
      ]
     },
     "execution_count": 2,
     "metadata": {},
     "output_type": "execute_result"
    }
   ],
   "source": [
    "m = np.matrix([\n",
    "    [0.7, 0.2, 0.1],\n",
    "    [0, 0.6, 0.4],\n",
    "    [0.5, 0, 0.5]\n",
    "])\n",
    "\n",
    "m**2"
   ]
  },
  {
   "cell_type": "code",
   "execution_count": 3,
   "metadata": {},
   "outputs": [
    {
     "data": {
      "text/plain": [
       "matrix([[0.64583333, 0.35416667],\n",
       "        [0.47222222, 0.52777778]])"
      ]
     },
     "execution_count": 3,
     "metadata": {},
     "output_type": "execute_result"
    }
   ],
   "source": [
    "m = np.matrix([\n",
    "    [3/4, 1/4],\n",
    "    [1/3, 2/3]\n",
    "])\n",
    "\n",
    "m**2"
   ]
  },
  {
   "cell_type": "code",
   "execution_count": 4,
   "metadata": {},
   "outputs": [],
   "source": [
    "from scipy.special import comb"
   ]
  },
  {
   "cell_type": "code",
   "execution_count": 5,
   "metadata": {},
   "outputs": [
    {
     "data": {
      "text/plain": [
       "1.0"
      ]
     },
     "execution_count": 5,
     "metadata": {},
     "output_type": "execute_result"
    }
   ],
   "source": [
    "4*2/comb(6, 2) + 4*3/comb(6,2)/2 + 2*1/comb(6,2)/2"
   ]
  },
  {
   "cell_type": "markdown",
   "metadata": {},
   "source": [
    "Dois estados $i$ e $j$ pertencem a mesma classe se e somente se $i$ é acessível por $j$ e $j$ é acessível por $i$."
   ]
  },
  {
   "cell_type": "markdown",
   "metadata": {},
   "source": [
    "$i$ é acessível por $j$ se $P(X_k=i | X_0=j) > 0$ para algum $k$"
   ]
  },
  {
   "cell_type": "markdown",
   "metadata": {},
   "source": [
    "Considere dois estados genéricos $i$ e $j$ tal que $i < j$. Ou seja, entre $i$ e $j$ existem os estados $i+1, i+2, i+3, \\dots, j$. São $k = j-i$ estados intermediários, de forma que conseguimos chegar em $j$, partindo de $i$, em no mínimo k passos."
   ]
  },
  {
   "cell_type": "markdown",
   "metadata": {},
   "source": [
    "Sabemos que\n",
    "\n",
    "$$\n",
    "P(X_k=i | X_0=j) \\ge P(X_k=i | X_0=j, X_1=j-1, \\dots, X_{k-1}=i+1) \\times \\ \n",
    "$$\n",
    "$$\n",
    "\\ \\ \\ \\ \\ \\ \\ \\ \\ \\ \\ \\ \\ \\ \\ \\ \\ \\ \\ \\ \\ \\ \\ \\ \\ \\ \\ \\ \\ \\ \\ \\ \\ \\times P(X_1=j-1, \\dots, X_{k-1}=i+1 | X_0=j) =\n",
    "$$\n",
    "$$\n",
    "= P(X_k=i | X_{k-1}=i+1) \\cdot P(X_1=j-1, \\dots, X_{k-1}=i+1  | X_0=j) =\n",
    "$$\n",
    "$$\n",
    "P(j,j-1) \\cdot P(j-1,j-2) \\cdot P(j-2, j-3) \\cdot \\dots \\cdot P(i+1, i) =\n",
    "$$\n",
    "$$\n",
    "(1-p)^k\n",
    "$$"
   ]
  },
  {
   "cell_type": "markdown",
   "metadata": {},
   "source": [
    "E $(1-p)^k > 0$ desde que $p \\ne 1$. Portanto, se $p \\ne 1$ $i$ é acessível por $j$."
   ]
  },
  {
   "cell_type": "markdown",
   "metadata": {},
   "source": [
    "Utilizando raciocínio análogo, provamos que $j$ é acessível por $i$ desde que $p \\ne 0$."
   ]
  },
  {
   "cell_type": "markdown",
   "metadata": {},
   "source": [
    "Logo, quaisquer dois estados $i$ e $j$ pertencem à mesma classe se, e somente se, $p \\ne 0$ e $p \\ne 1$."
   ]
  },
  {
   "cell_type": "code",
   "execution_count": 7,
   "metadata": {},
   "outputs": [
    {
     "data": {
      "text/plain": [
       "matrix([[0.33333333, 0.33333333, 0.33333333],\n",
       "        [0.33333333, 0.33333333, 0.33333333],\n",
       "        [0.33333333, 0.33333333, 0.33333333]])"
      ]
     },
     "execution_count": 7,
     "metadata": {},
     "output_type": "execute_result"
    }
   ],
   "source": [
    "P = np.matrix([\n",
    "    [1/3, 2/3, 0],\n",
    "    [1/2, 0, 1/2],\n",
    "    [1/6, 1/3, 1/2]\n",
    "])\n",
    "\n",
    "P**64"
   ]
  },
  {
   "cell_type": "code",
   "execution_count": 9,
   "metadata": {},
   "outputs": [
    {
     "name": "stdout",
     "output_type": "stream",
     "text": [
      "[[0.1875 0.25   0.1875 0.375 ]\n",
      " [0.1875 0.25   0.1875 0.375 ]\n",
      " [0.1875 0.25   0.1875 0.375 ]\n",
      " [0.1875 0.25   0.1875 0.375 ]]\n",
      "[0.1875 0.25   0.1875 0.375 ]\n"
     ]
    }
   ],
   "source": [
    "P = np.matrix([\n",
    "    [0,0,0,1],\n",
    "    [1/4,1/4,1/4,1/4],\n",
    "    [0,1/3,0,2/3],\n",
    "    [1/3,1/3,1/3,0]\n",
    "])\n",
    "\n",
    "print(P**64)\n",
    "print(np.array([3/16, 1/4, 3/16, 3/8]))"
   ]
  },
  {
   "cell_type": "code",
   "execution_count": null,
   "metadata": {},
   "outputs": [],
   "source": []
  }
 ],
 "metadata": {
  "kernelspec": {
   "display_name": "Python 3",
   "language": "python",
   "name": "python3"
  },
  "language_info": {
   "codemirror_mode": {
    "name": "ipython",
    "version": 3
   },
   "file_extension": ".py",
   "mimetype": "text/x-python",
   "name": "python",
   "nbconvert_exporter": "python",
   "pygments_lexer": "ipython3",
   "version": "3.6.5"
  }
 },
 "nbformat": 4,
 "nbformat_minor": 2
}
