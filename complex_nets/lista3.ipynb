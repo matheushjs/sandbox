{
 "cells": [
  {
   "cell_type": "code",
   "execution_count": 32,
   "metadata": {},
   "outputs": [],
   "source": [
    "import networkx as nx\n",
    "import numpy as np\n",
    "import pandas as pd\n",
    "import matplotlib.pyplot as plt\n",
    "import seaborn as sns"
   ]
  },
  {
   "cell_type": "markdown",
   "metadata": {},
   "source": [
    "# Problem 1"
   ]
  },
  {
   "cell_type": "markdown",
   "metadata": {},
   "source": [
    "### First a sanity check to see if we generate graphs with $\\left<k\\right> = 10$"
   ]
  },
  {
   "cell_type": "code",
   "execution_count": 284,
   "metadata": {},
   "outputs": [
    {
     "data": {
      "text/plain": [
       "[10.092, 10.0, 10.0, 9.95]"
      ]
     },
     "execution_count": 284,
     "metadata": {},
     "output_type": "execute_result"
    }
   ],
   "source": [
    "getVals = lambda x: list(dict(x).values())\n",
    "getKeys = lambda x: list(dict(x).keys())\n",
    "\n",
    "meanK = 10\n",
    "\n",
    "G1 = nx.generators.erdos_renyi_graph(1000, meanK / 999)\n",
    "G2 = nx.generators.watts_strogatz_graph(1000, 10, 0.1)\n",
    "G3 = nx.generators.watts_strogatz_graph(1000, 10, 0.01)\n",
    "G4 = nx.generators.barabasi_albert_graph(1000, 5)\n",
    "\n",
    "[ np.mean(list(dict(G.degree).values())) for G in (G1, G2, G3, G4)]"
   ]
  },
  {
   "cell_type": "code",
   "execution_count": 224,
   "metadata": {},
   "outputs": [
    {
     "name": "stdout",
     "output_type": "stream",
     "text": [
      "0 1 2 3 4 5 6 7 8 9 10 11 12 13 14 15 16 17 18 19 20 21 22 23 24 25 26 27 28 29 "
     ]
    },
    {
     "data": {
      "text/html": [
       "<div>\n",
       "<style scoped>\n",
       "    .dataframe tbody tr th:only-of-type {\n",
       "        vertical-align: middle;\n",
       "    }\n",
       "\n",
       "    .dataframe tbody tr th {\n",
       "        vertical-align: top;\n",
       "    }\n",
       "\n",
       "    .dataframe thead th {\n",
       "        text-align: right;\n",
       "    }\n",
       "</style>\n",
       "<table border=\"1\" class=\"dataframe\">\n",
       "  <thead>\n",
       "    <tr style=\"text-align: right;\">\n",
       "      <th></th>\n",
       "      <th>generator</th>\n",
       "      <th>numNodes</th>\n",
       "      <th>avgDeg</th>\n",
       "      <th>2moment</th>\n",
       "      <th>avgShortestPath</th>\n",
       "      <th>avgClusterCoeff</th>\n",
       "      <th>transitivity</th>\n",
       "      <th>assortativity</th>\n",
       "    </tr>\n",
       "  </thead>\n",
       "  <tbody>\n",
       "    <tr>\n",
       "      <td>0</td>\n",
       "      <td>Erdos</td>\n",
       "      <td>1000</td>\n",
       "      <td>10.044</td>\n",
       "      <td>0.870390</td>\n",
       "      <td>3.250919</td>\n",
       "      <td>0.010657</td>\n",
       "      <td>0.010629</td>\n",
       "      <td>-0.008743</td>\n",
       "    </tr>\n",
       "    <tr>\n",
       "      <td>1</td>\n",
       "      <td>Watts0.1</td>\n",
       "      <td>1000</td>\n",
       "      <td>10.000</td>\n",
       "      <td>3.274318</td>\n",
       "      <td>4.525021</td>\n",
       "      <td>0.507541</td>\n",
       "      <td>0.498448</td>\n",
       "      <td>-0.010800</td>\n",
       "    </tr>\n",
       "    <tr>\n",
       "      <td>2</td>\n",
       "      <td>Watts0.01</td>\n",
       "      <td>1000</td>\n",
       "      <td>10.000</td>\n",
       "      <td>8.726830</td>\n",
       "      <td>10.656440</td>\n",
       "      <td>0.653831</td>\n",
       "      <td>0.652959</td>\n",
       "      <td>-0.000707</td>\n",
       "    </tr>\n",
       "    <tr>\n",
       "      <td>3</td>\n",
       "      <td>Barabasi</td>\n",
       "      <td>1000</td>\n",
       "      <td>9.950</td>\n",
       "      <td>0.858444</td>\n",
       "      <td>2.996623</td>\n",
       "      <td>0.037308</td>\n",
       "      <td>0.029597</td>\n",
       "      <td>-0.042608</td>\n",
       "    </tr>\n",
       "    <tr>\n",
       "      <td>4</td>\n",
       "      <td>Erdos</td>\n",
       "      <td>1000</td>\n",
       "      <td>9.862</td>\n",
       "      <td>0.896934</td>\n",
       "      <td>3.273381</td>\n",
       "      <td>0.011182</td>\n",
       "      <td>0.010700</td>\n",
       "      <td>-0.002688</td>\n",
       "    </tr>\n",
       "    <tr>\n",
       "      <td>...</td>\n",
       "      <td>...</td>\n",
       "      <td>...</td>\n",
       "      <td>...</td>\n",
       "      <td>...</td>\n",
       "      <td>...</td>\n",
       "      <td>...</td>\n",
       "      <td>...</td>\n",
       "      <td>...</td>\n",
       "    </tr>\n",
       "    <tr>\n",
       "      <td>115</td>\n",
       "      <td>Barabasi</td>\n",
       "      <td>1000</td>\n",
       "      <td>9.950</td>\n",
       "      <td>0.856656</td>\n",
       "      <td>2.968631</td>\n",
       "      <td>0.042497</td>\n",
       "      <td>0.030608</td>\n",
       "      <td>-0.061973</td>\n",
       "    </tr>\n",
       "    <tr>\n",
       "      <td>116</td>\n",
       "      <td>Erdos</td>\n",
       "      <td>1000</td>\n",
       "      <td>9.888</td>\n",
       "      <td>0.919548</td>\n",
       "      <td>3.271441</td>\n",
       "      <td>0.008635</td>\n",
       "      <td>0.008496</td>\n",
       "      <td>0.017816</td>\n",
       "    </tr>\n",
       "    <tr>\n",
       "      <td>117</td>\n",
       "      <td>Watts0.1</td>\n",
       "      <td>1000</td>\n",
       "      <td>10.000</td>\n",
       "      <td>3.096036</td>\n",
       "      <td>4.452855</td>\n",
       "      <td>0.496982</td>\n",
       "      <td>0.488145</td>\n",
       "      <td>-0.004748</td>\n",
       "    </tr>\n",
       "    <tr>\n",
       "      <td>118</td>\n",
       "      <td>Watts0.01</td>\n",
       "      <td>1000</td>\n",
       "      <td>10.000</td>\n",
       "      <td>8.871078</td>\n",
       "      <td>10.681618</td>\n",
       "      <td>0.653909</td>\n",
       "      <td>0.653107</td>\n",
       "      <td>-0.006745</td>\n",
       "    </tr>\n",
       "    <tr>\n",
       "      <td>119</td>\n",
       "      <td>Barabasi</td>\n",
       "      <td>1000</td>\n",
       "      <td>9.950</td>\n",
       "      <td>0.865226</td>\n",
       "      <td>2.959508</td>\n",
       "      <td>0.047953</td>\n",
       "      <td>0.031193</td>\n",
       "      <td>-0.072440</td>\n",
       "    </tr>\n",
       "  </tbody>\n",
       "</table>\n",
       "<p>120 rows × 8 columns</p>\n",
       "</div>"
      ],
      "text/plain": [
       "     generator  numNodes  avgDeg   2moment  avgShortestPath  avgClusterCoeff  \\\n",
       "0        Erdos      1000  10.044  0.870390         3.250919         0.010657   \n",
       "1     Watts0.1      1000  10.000  3.274318         4.525021         0.507541   \n",
       "2    Watts0.01      1000  10.000  8.726830        10.656440         0.653831   \n",
       "3     Barabasi      1000   9.950  0.858444         2.996623         0.037308   \n",
       "4        Erdos      1000   9.862  0.896934         3.273381         0.011182   \n",
       "..         ...       ...     ...       ...              ...              ...   \n",
       "115   Barabasi      1000   9.950  0.856656         2.968631         0.042497   \n",
       "116      Erdos      1000   9.888  0.919548         3.271441         0.008635   \n",
       "117   Watts0.1      1000  10.000  3.096036         4.452855         0.496982   \n",
       "118  Watts0.01      1000  10.000  8.871078        10.681618         0.653909   \n",
       "119   Barabasi      1000   9.950  0.865226         2.959508         0.047953   \n",
       "\n",
       "     transitivity  assortativity  \n",
       "0        0.010629      -0.008743  \n",
       "1        0.498448      -0.010800  \n",
       "2        0.652959      -0.000707  \n",
       "3        0.029597      -0.042608  \n",
       "4        0.010700      -0.002688  \n",
       "..            ...            ...  \n",
       "115      0.030608      -0.061973  \n",
       "116      0.008496       0.017816  \n",
       "117      0.488145      -0.004748  \n",
       "118      0.653107      -0.006745  \n",
       "119      0.031193      -0.072440  \n",
       "\n",
       "[120 rows x 8 columns]"
      ]
     },
     "execution_count": 224,
     "metadata": {},
     "output_type": "execute_result"
    }
   ],
   "source": [
    "results = {\n",
    "    \"generator\": [],\n",
    "    \"numNodes\": [],\n",
    "    \"avgDeg\": [],\n",
    "    \"2moment\": [],\n",
    "    \"avgShortestPath\": [],\n",
    "    \"avgClusterCoeff\": [],\n",
    "    \"transitivity\": [],\n",
    "    \"assortativity\": []\n",
    "}\n",
    "\n",
    "def addResult(G, generator):\n",
    "    results[\"generator\"].append(generator)\n",
    "    results[\"numNodes\"].append(len(G.nodes))\n",
    "    \n",
    "    degs = np.array(getVals(G.degree))\n",
    "    histX = np.arange(0, np.max(degs) + 1)\n",
    "    histY = [ np.sum(degs == i) for i in histX ]\n",
    "    histY = histY / np.sum(histY) # normalize\n",
    "    moment1 = np.sum([ x*p      for x, p in zip(histX, histY) ])\n",
    "    moment2 = np.sum([ x*(p**2) for x, p in zip(histX, histY) ])\n",
    "    results[\"avgDeg\"].append(moment1)\n",
    "    results[\"2moment\"].append(moment2)\n",
    "    \n",
    "    component = max(nx.components.connected_component_subgraphs(G), key=len)\n",
    "    results[\"avgShortestPath\"].append(nx.average_shortest_path_length(component))\n",
    "    \n",
    "    results[\"avgClusterCoeff\"].append(nx.average_clustering(G))\n",
    "    results[\"transitivity\"].append(nx.transitivity(G))\n",
    "    results[\"assortativity\"].append(nx.assortativity.degree_assortativity_coefficient(G))\n",
    "\n",
    "for i in range(30):\n",
    "    print(i, end=\" \")\n",
    "    G1 = nx.generators.erdos_renyi_graph(1000, meanK / 999, seed=72+i)\n",
    "    G2 = nx.generators.watts_strogatz_graph(1000, 10, 0.1, seed=72+i)\n",
    "    G3 = nx.generators.watts_strogatz_graph(1000, 10, 0.01, seed=72+i)\n",
    "    G4 = nx.generators.barabasi_albert_graph(1000, 5, seed=72+i)\n",
    "    \n",
    "    addResult(G1, \"Erdos\")\n",
    "    addResult(G2, \"Watts0.1\")\n",
    "    addResult(G3, \"Watts0.01\")\n",
    "    addResult(G4, \"Barabasi\")\n",
    "\n",
    "df = pd.DataFrame(results)\n",
    "df"
   ]
  },
  {
   "cell_type": "code",
   "execution_count": 226,
   "metadata": {},
   "outputs": [],
   "source": [
    "groups = df.groupby(by=\"generator\")\n",
    "mean = groups.mean()\n",
    "std = groups.std()"
   ]
  },
  {
   "cell_type": "markdown",
   "metadata": {},
   "source": [
    "### Mean:"
   ]
  },
  {
   "cell_type": "code",
   "execution_count": 227,
   "metadata": {},
   "outputs": [
    {
     "data": {
      "text/html": [
       "<div>\n",
       "<style scoped>\n",
       "    .dataframe tbody tr th:only-of-type {\n",
       "        vertical-align: middle;\n",
       "    }\n",
       "\n",
       "    .dataframe tbody tr th {\n",
       "        vertical-align: top;\n",
       "    }\n",
       "\n",
       "    .dataframe thead th {\n",
       "        text-align: right;\n",
       "    }\n",
       "</style>\n",
       "<table border=\"1\" class=\"dataframe\">\n",
       "  <thead>\n",
       "    <tr style=\"text-align: right;\">\n",
       "      <th></th>\n",
       "      <th>numNodes</th>\n",
       "      <th>avgDeg</th>\n",
       "      <th>2moment</th>\n",
       "      <th>avgShortestPath</th>\n",
       "      <th>avgClusterCoeff</th>\n",
       "      <th>transitivity</th>\n",
       "      <th>assortativity</th>\n",
       "    </tr>\n",
       "    <tr>\n",
       "      <th>generator</th>\n",
       "      <th></th>\n",
       "      <th></th>\n",
       "      <th></th>\n",
       "      <th></th>\n",
       "      <th></th>\n",
       "      <th></th>\n",
       "      <th></th>\n",
       "    </tr>\n",
       "  </thead>\n",
       "  <tbody>\n",
       "    <tr>\n",
       "      <td>Barabasi</td>\n",
       "      <td>1000</td>\n",
       "      <td>9.950</td>\n",
       "      <td>0.854269</td>\n",
       "      <td>2.980822</td>\n",
       "      <td>0.039911</td>\n",
       "      <td>0.029691</td>\n",
       "      <td>-0.058270</td>\n",
       "    </tr>\n",
       "    <tr>\n",
       "      <td>Erdos</td>\n",
       "      <td>1000</td>\n",
       "      <td>9.994</td>\n",
       "      <td>0.886814</td>\n",
       "      <td>3.256810</td>\n",
       "      <td>0.010115</td>\n",
       "      <td>0.010064</td>\n",
       "      <td>-0.002618</td>\n",
       "    </tr>\n",
       "    <tr>\n",
       "      <td>Watts0.01</td>\n",
       "      <td>1000</td>\n",
       "      <td>10.000</td>\n",
       "      <td>8.302309</td>\n",
       "      <td>9.052121</td>\n",
       "      <td>0.648064</td>\n",
       "      <td>0.646797</td>\n",
       "      <td>0.002152</td>\n",
       "    </tr>\n",
       "    <tr>\n",
       "      <td>Watts0.1</td>\n",
       "      <td>1000</td>\n",
       "      <td>10.000</td>\n",
       "      <td>3.121811</td>\n",
       "      <td>4.445761</td>\n",
       "      <td>0.492419</td>\n",
       "      <td>0.483567</td>\n",
       "      <td>-0.010739</td>\n",
       "    </tr>\n",
       "  </tbody>\n",
       "</table>\n",
       "</div>"
      ],
      "text/plain": [
       "           numNodes  avgDeg   2moment  avgShortestPath  avgClusterCoeff  \\\n",
       "generator                                                                 \n",
       "Barabasi       1000   9.950  0.854269         2.980822         0.039911   \n",
       "Erdos          1000   9.994  0.886814         3.256810         0.010115   \n",
       "Watts0.01      1000  10.000  8.302309         9.052121         0.648064   \n",
       "Watts0.1       1000  10.000  3.121811         4.445761         0.492419   \n",
       "\n",
       "           transitivity  assortativity  \n",
       "generator                               \n",
       "Barabasi       0.029691      -0.058270  \n",
       "Erdos          0.010064      -0.002618  \n",
       "Watts0.01      0.646797       0.002152  \n",
       "Watts0.1       0.483567      -0.010739  "
      ]
     },
     "execution_count": 227,
     "metadata": {},
     "output_type": "execute_result"
    }
   ],
   "source": [
    "mean"
   ]
  },
  {
   "cell_type": "markdown",
   "metadata": {},
   "source": [
    "### Standard Deviation"
   ]
  },
  {
   "cell_type": "code",
   "execution_count": 228,
   "metadata": {},
   "outputs": [
    {
     "data": {
      "text/html": [
       "<div>\n",
       "<style scoped>\n",
       "    .dataframe tbody tr th:only-of-type {\n",
       "        vertical-align: middle;\n",
       "    }\n",
       "\n",
       "    .dataframe tbody tr th {\n",
       "        vertical-align: top;\n",
       "    }\n",
       "\n",
       "    .dataframe thead th {\n",
       "        text-align: right;\n",
       "    }\n",
       "</style>\n",
       "<table border=\"1\" class=\"dataframe\">\n",
       "  <thead>\n",
       "    <tr style=\"text-align: right;\">\n",
       "      <th></th>\n",
       "      <th>numNodes</th>\n",
       "      <th>avgDeg</th>\n",
       "      <th>2moment</th>\n",
       "      <th>avgShortestPath</th>\n",
       "      <th>avgClusterCoeff</th>\n",
       "      <th>transitivity</th>\n",
       "      <th>assortativity</th>\n",
       "    </tr>\n",
       "    <tr>\n",
       "      <th>generator</th>\n",
       "      <th></th>\n",
       "      <th></th>\n",
       "      <th></th>\n",
       "      <th></th>\n",
       "      <th></th>\n",
       "      <th></th>\n",
       "      <th></th>\n",
       "    </tr>\n",
       "  </thead>\n",
       "  <tbody>\n",
       "    <tr>\n",
       "      <td>Barabasi</td>\n",
       "      <td>0.0</td>\n",
       "      <td>1.277547e-15</td>\n",
       "      <td>0.010311</td>\n",
       "      <td>0.013834</td>\n",
       "      <td>0.003039</td>\n",
       "      <td>0.001184</td>\n",
       "      <td>0.009194</td>\n",
       "    </tr>\n",
       "    <tr>\n",
       "      <td>Erdos</td>\n",
       "      <td>0.0</td>\n",
       "      <td>1.296137e-01</td>\n",
       "      <td>0.022471</td>\n",
       "      <td>0.016686</td>\n",
       "      <td>0.000966</td>\n",
       "      <td>0.000937</td>\n",
       "      <td>0.012805</td>\n",
       "    </tr>\n",
       "    <tr>\n",
       "      <td>Watts0.01</td>\n",
       "      <td>0.0</td>\n",
       "      <td>1.189331e-15</td>\n",
       "      <td>0.285653</td>\n",
       "      <td>0.842908</td>\n",
       "      <td>0.003425</td>\n",
       "      <td>0.003650</td>\n",
       "      <td>0.010803</td>\n",
       "    </tr>\n",
       "    <tr>\n",
       "      <td>Watts0.1</td>\n",
       "      <td>0.0</td>\n",
       "      <td>1.277547e-15</td>\n",
       "      <td>0.131886</td>\n",
       "      <td>0.050624</td>\n",
       "      <td>0.007857</td>\n",
       "      <td>0.008176</td>\n",
       "      <td>0.016257</td>\n",
       "    </tr>\n",
       "  </tbody>\n",
       "</table>\n",
       "</div>"
      ],
      "text/plain": [
       "           numNodes        avgDeg   2moment  avgShortestPath  avgClusterCoeff  \\\n",
       "generator                                                                       \n",
       "Barabasi        0.0  1.277547e-15  0.010311         0.013834         0.003039   \n",
       "Erdos           0.0  1.296137e-01  0.022471         0.016686         0.000966   \n",
       "Watts0.01       0.0  1.189331e-15  0.285653         0.842908         0.003425   \n",
       "Watts0.1        0.0  1.277547e-15  0.131886         0.050624         0.007857   \n",
       "\n",
       "           transitivity  assortativity  \n",
       "generator                               \n",
       "Barabasi       0.001184       0.009194  \n",
       "Erdos          0.000937       0.012805  \n",
       "Watts0.01      0.003650       0.010803  \n",
       "Watts0.1       0.008176       0.016257  "
      ]
     },
     "execution_count": 228,
     "metadata": {},
     "output_type": "execute_result"
    }
   ],
   "source": [
    "std"
   ]
  },
  {
   "cell_type": "code",
   "execution_count": 243,
   "metadata": {},
   "outputs": [
    {
     "name": "stdout",
     "output_type": "stream",
     "text": [
      "Degree distributions. Each row is:\n",
      "1 - Erdos Renyi\n",
      "2 - Watts-Strogatz p=0.01\n",
      "3 - Watts-Strogatz p=0.1\n",
      "4 - Barabasi-Albert\n",
      "\n"
     ]
    },
    {
     "data": {
      "image/png": "[encoded data removed]",
      "text/plain": [
       "<Figure size 1440x576 with 40 Axes>"
      ]
     },
     "metadata": {
      "needs_background": "light"
     },
     "output_type": "display_data"
    }
   ],
   "source": [
    "fig, ax = plt.subplots(nrows=4, ncols=10, figsize=(20, 8))\n",
    "\n",
    "print(\"\"\"Degree distributions. Each row is:\n",
    "1 - Erdos Renyi\n",
    "2 - Watts-Strogatz p=0.01\n",
    "3 - Watts-Strogatz p=0.1\n",
    "4 - Barabasi-Albert\n",
    "\"\"\")\n",
    "\n",
    "for i in range(10):\n",
    "    G = nx.generators.erdos_renyi_graph(1000, meanK / 1000, seed=72+i)\n",
    "    degs = getVals(G.degree)\n",
    "    ax[0, i].hist(degs, bins=np.arange(-1, max(degs)+1) + 0.5, density=True)\n",
    "    \n",
    "for i in range(10):\n",
    "    G = nx.generators.watts_strogatz_graph(1000, 10, 0.1, seed=72+i)\n",
    "    degs = getVals(G.degree)\n",
    "    ax[1, i].hist(degs, bins=np.arange(-1, max(degs)+1) + 0.5, density=True)\n",
    "\n",
    "for i in range(10):\n",
    "    G = nx.generators.watts_strogatz_graph(1000, 10, 0.01, seed=72+i)\n",
    "    degs = getVals(G.degree)\n",
    "    ax[2, i].hist(degs, bins=np.arange(-1, max(degs)+1) + 0.5, density=True)\n",
    "\n",
    "for i in range(10):\n",
    "    G = nx.generators.barabasi_albert_graph(1000, 5, seed=72+i)\n",
    "    degs = getVals(G.degree)\n",
    "    ax[3, i].hist(degs, bins=np.arange(-1, max(degs)+1) + 0.5, density=True)"
   ]
  },
  {
   "cell_type": "markdown",
   "metadata": {},
   "source": [
    "### We see that Erdos-Renyi and Watts-Strogatz have degree distributions of similar shape, and they are not scale free. Barabasi-Albert is the only scale-free model here.\n",
    "\n",
    "### We see high clustering coefficients and transitivity in both Watts-Strogatz models, so there must be a large number of triangles in such a graph. Despite this, the average shortest paths here were larger than I expected: the network is highly clustered, but the average distance is still quite high. \n",
    "\n",
    "### A large second moment for the shortest paths is observed for Watts-Strogatz with p = 0.01, which is almost nearly a regular graph; this is expected, as each of the few edge reconnections can cause shortest paths to vary a lot.\n",
    "\n",
    "### Finally, all model showed assortativity near 0, reflecting their random nature. If we wanted the assortativity to be within a specific range, we would need to employ a model specific for this purpose."
   ]
  },
  {
   "cell_type": "markdown",
   "metadata": {},
   "source": [
    "# Problem 2"
   ]
  },
  {
   "cell_type": "code",
   "execution_count": 298,
   "metadata": {},
   "outputs": [
    {
     "data": {
      "text/plain": [
       "Text(0, 0.5, 'Nodes in Giant Component')"
      ]
     },
     "execution_count": 298,
     "metadata": {},
     "output_type": "execute_result"
    },
    {
     "data": {
      "image/png": "[encoded data removed]",
      "text/plain": [
       "<Figure size 720x480 with 1 Axes>"
      ]
     },
     "metadata": {
      "needs_background": "light"
     },
     "output_type": "display_data"
    }
   ],
   "source": [
    "y = []\n",
    "x = np.arange(0, 4, step=4/100)\n",
    "\n",
    "NNODES = 300\n",
    "\n",
    "for avgDeg in x:\n",
    "    aux = []\n",
    "    for i in range(20):\n",
    "        giantComp = max(nx.connected_component_subgraphs(nx.erdos_renyi_graph(NNODES, avgDeg / (NNODES-1))), key=len)\n",
    "        aux.append(len(giantComp.nodes) / NNODES)\n",
    "    y.append(np.mean(aux))\n",
    "\n",
    "plt.figure(dpi=120)\n",
    "plt.plot(x, y)\n",
    "plt.title(\"Phase Transition Curve\")\n",
    "plt.xlabel(\"Average Degree\")\n",
    "plt.ylabel(\"Nodes in Giant Component\")"
   ]
  },
  {
   "cell_type": "code",
   "execution_count": 313,
   "metadata": {},
   "outputs": [
    {
     "name": "stdout",
     "output_type": "stream",
     "text": [
      "(4,100) (4,200) (4,300) (4,400) (4,500) (4,600) (4,700) (4,800) (4,900) (4,1000) (10,100) (10,200) (10,300) (10,400) (10,500) (10,600) (10,700) (10,800) (10,900) (10,1000) (20,100) (20,200) (20,300) (20,400) (20,500) (20,600) (20,700) (20,800) (20,900) (20,1000) (30,100) (30,200) (30,300) (30,400) (30,500) (30,600) (30,700) (30,800) (30,900) (30,1000) "
     ]
    },
    {
     "data": {
      "text/plain": [
       "Text(0.5, 0, 'dMax')"
      ]
     },
     "execution_count": 313,
     "metadata": {},
     "output_type": "execute_result"
    },
    {
     "data": {
      "image/png": "[encoded data removed]",
      "text/plain": [
       "<Figure size 720x480 with 1 Axes>"
      ]
     },
     "metadata": {
      "needs_background": "light"
     },
     "output_type": "display_data"
    }
   ],
   "source": [
    "avgShortestPath = []\n",
    "dMax = []\n",
    "\n",
    "for avgDeg in (4, 10, 20, 30):\n",
    "    for N in np.arange(100, 1001, step=100):\n",
    "        print(\"({},{})\".format(avgDeg, N), end=\" \")\n",
    "        avgSP = 0\n",
    "        dM = 0\n",
    "        nIter = 10\n",
    "\n",
    "        for i in range(nIter):\n",
    "            giantComp = max(nx.connected_component_subgraphs(nx.erdos_renyi_graph(N, avgDeg / (N-1))), key=len)\n",
    "            avgSP += nx.average_shortest_path_length(giantComp)\n",
    "            dM += np.log(N) / np.log(avgDeg)\n",
    "\n",
    "        avgShortestPath.append(avgSP / nIter)\n",
    "        dMax.append(dM / nIter)\n",
    "\n",
    "plt.figure(dpi=120)\n",
    "plt.scatter(avgShortestPath, dMax, cmap=\"rainbow\")\n",
    "plt.ylabel(\"Average Shortest Path\")\n",
    "plt.xlabel(\"dMax\")"
   ]
  },
  {
   "cell_type": "markdown",
   "metadata": {},
   "source": [
    "### The points lie on the line $y = x$, which characterizes small-world networks (though this did not work for average degrees lower than 4 when I tried earlier)."
   ]
  },
  {
   "cell_type": "markdown",
   "metadata": {},
   "source": [
    "# Problem 3"
   ]
  },
  {
   "cell_type": "code",
   "execution_count": null,
   "metadata": {},
   "outputs": [],
   "source": []
  }
 ],
 "metadata": {
  "kernelspec": {
   "display_name": "Python 3",
   "language": "python",
   "name": "python3"
  },
  "language_info": {
   "codemirror_mode": {
    "name": "ipython",
    "version": 3
   },
   "file_extension": ".py",
   "mimetype": "text/x-python",
   "name": "python",
   "nbconvert_exporter": "python",
   "pygments_lexer": "ipython3",
   "version": "3.6.8"
  }
 },
 "nbformat": 4,
 "nbformat_minor": 2
}
