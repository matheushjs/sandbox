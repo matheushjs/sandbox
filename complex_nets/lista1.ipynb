{
 "cells": [
  {
   "cell_type": "markdown",
   "metadata": {},
   "source": [
    "# Problem 1"
   ]
  },
  {
   "cell_type": "markdown",
   "metadata": {},
   "source": [
    "a) The degree of each node is as follows:\n",
    "\n",
    "- Node 1: 2\n",
    "- Node 2: 3\n",
    "- Node 3: 5\n",
    "- Node 4: 3\n",
    "- Node 5: 1\n",
    "- Node 6: 2\n",
    "- Node 7: 2\n",
    "\n",
    "The relative frequency of degrees (which is precisely the degree disribution) is, thus:\n",
    "\n",
    "- Degree 1: $P(1) = 1 / 7$\n",
    "- Degree 2: $P(2) = 3 / 7$\n",
    "- Degree 3: $P(3) = 2 / 7$\n",
    "- Degree 4: $P(4) = 0 / 7$\n",
    "- Degree 5: $P(5) = 1 / 7$"
   ]
  },
  {
   "cell_type": "markdown",
   "metadata": {},
   "source": [
    "b) The local clustering coefficient of a node $i$ is given by\n",
    "\n",
    "$$\n",
    "c_i = \\frac{e_i}{k_i \\cdot (k_i - 1)\\ /\\ 2}\n",
    "$$\n",
    "\n",
    "Where $e_i$ is the number of edges in the subgraph $G_i$ of neighbors of node $i$, $k_i$ is the degree of node $i$.\n",
    "\n",
    "The local clustering coefficient of each node is therefore:\n",
    "\n",
    "- Node 1: $1 / 1$\n",
    "- Node 2: $2 / 3$\n",
    "- Node 3: $2 / 10$\n",
    "- Node 4: $2 / 3$\n",
    "- Node 5: $0 / 0$\n",
    "- Node 6: $1 / 1$\n",
    "- Node 7: $1 / 1$"
   ]
  },
  {
   "cell_type": "markdown",
   "metadata": {},
   "source": [
    "c) The difficulty here is to count the number of triads...\n",
    "\n",
    "- Triads centered on node 1: 1\n",
    "- Triads centered on node 2: 3\n",
    "- Triads centered on node 3: 10\n",
    "- Triads centered on node 4: 3\n",
    "- Triads centered on node 5: 0\n",
    "- Triads centered on node 6: 1\n",
    "- Triads centered on node 7: 1\n",
    "- Total: 19\n",
    "\n",
    "The transitivity of the graph is then:\n",
    "\n",
    "$$\n",
    "\\frac{3 \\cdot no.\\ of\\ triangles}{no.\\ of\\ triads} = \\frac{3 \\cdot 3}{19} = \\frac{9}{19}\n",
    "$$"
   ]
  },
  {
   "cell_type": "markdown",
   "metadata": {},
   "source": [
    "d) The distance matrix is:\n",
    "\n",
    "$$\n",
    "\\begin{bmatrix}\n",
    "    0 & 1 & 2 & 1 & 3 & 3 & 3 \\\\\n",
    "    1 & 0 & 1 & 1 & 2 & 2 & 2 \\\\\n",
    "    2 & 1 & 0 & 1 & 1 & 1 & 1 \\\\\n",
    "    1 & 1 & 1 & 0 & 2 & 2 & 2 \\\\\n",
    "    3 & 2 & 1 & 2 & 0 & 2 & 2 \\\\\n",
    "    3 & 2 & 1 & 2 & 2 & 0 & 1 \\\\\n",
    "    3 & 2 & 1 & 2 & 2 & 1 & 0 \\\\\n",
    "\\end{bmatrix}\n",
    "$$"
   ]
  },
  {
   "cell_type": "markdown",
   "metadata": {},
   "source": [
    "e) The entropy is:\n",
    "\n",
    "$$\n",
    "E = -[ 1/7 \\cdot log_2(1/7) + 3/7 \\cdot log_2(3/7) + 2/7 \\cdot log_2(2/7) + 1/7 \\cdot log_2(1/7)] = 1.842371\n",
    "$$\n",
    "\n",
    "Where I have arbitrarily chosen the logarithm base as being 2 (I'm a computer scientist, after all)."
   ]
  },
  {
   "cell_type": "markdown",
   "metadata": {},
   "source": [
    "f) The second moment is\n",
    "\n",
    "$$\n",
    "    E(X^2) = \\sum_{x \\in X} x^2 \\cdot p(x) = 8\n",
    "$$"
   ]
  },
  {
   "cell_type": "markdown",
   "metadata": {},
   "source": [
    "We now answer the same questions by means of python programming."
   ]
  },
  {
   "cell_type": "code",
   "execution_count": 22,
   "metadata": {},
   "outputs": [],
   "source": [
    "import networkx as nx\n",
    "import matplotlib.pyplot as plt\n",
    "import numpy as np"
   ]
  },
  {
   "cell_type": "code",
   "execution_count": 48,
   "metadata": {},
   "outputs": [
    {
     "data": {
      "image/png": "[encoded data removed]",
      "text/plain": [
       "<Figure size 432x288 with 1 Axes>"
      ]
     },
     "metadata": {},
     "output_type": "display_data"
    }
   ],
   "source": [
    "G = nx.Graph()\n",
    "G.add_edges_from([\n",
    "        [1, 2], [1, 4],\n",
    "        [2, 1], [2, 4], [2, 3],\n",
    "        [3, 4], [3, 5], [3, 6], [3, 7],\n",
    "        [6, 7]\n",
    "    ])\n",
    "\n",
    "plt.figure()\n",
    "nx.draw(G, with_labels=True, font_weight=\"bold\", node_color=\"slateblue\")\n",
    "plt.show()"
   ]
  },
  {
   "cell_type": "code",
   "execution_count": 62,
   "metadata": {},
   "outputs": [
    {
     "name": "stdout",
     "output_type": "stream",
     "text": [
      "Answer of a)\n",
      "Degree 1: P(1) = 1/7\n",
      "Degree 2: P(2) = 3/7\n",
      "Degree 3: P(3) = 2/7\n",
      "Degree 5: P(5) = 1/7\n"
     ]
    }
   ],
   "source": [
    "nodes = [ i for i in G.nodes() ]\n",
    "degs = [ G.degree[n] for n in nodes ] \n",
    "\n",
    "print(\"Answer of a)\")\n",
    "for deg in np.unique(degs):\n",
    "    print(\"Degree {}: P({}) = {}/{}\".format(\n",
    "        deg,\n",
    "        deg,\n",
    "        sum(degs == deg),\n",
    "        len(nodes)\n",
    "    ))"
   ]
  },
  {
   "cell_type": "code",
   "execution_count": 64,
   "metadata": {},
   "outputs": [
    {
     "name": "stdout",
     "output_type": "stream",
     "text": [
      "b) Local clustering\n",
      "Node 1: 1.0\n",
      "Node 2: 0.6666666666666666\n",
      "Node 3: 0.2\n",
      "Node 4: 0.6666666666666666\n",
      "Node 5: 0\n",
      "Node 6: 1.0\n",
      "Node 7: 1.0\n"
     ]
    }
   ],
   "source": [
    "print(\"b) Local clustering\")\n",
    "for n in sorted(G.nodes()):\n",
    "    print(\"Node {}: {}\".format(n, nx.clustering(G, n)))"
   ]
  },
  {
   "cell_type": "code",
   "execution_count": 67,
   "metadata": {},
   "outputs": [
    {
     "name": "stdout",
     "output_type": "stream",
     "text": [
      "c) Transitivity: 0.47368421052631576\n"
     ]
    }
   ],
   "source": [
    "print(\"c) Transitivity: {}\".format(nx.transitivity(G)))"
   ]
  },
  {
   "cell_type": "code",
   "execution_count": 77,
   "metadata": {},
   "outputs": [
    {
     "name": "stdout",
     "output_type": "stream",
     "text": [
      "d) Distance matrix:\n",
      "0 1 2 1 3 3 3 \n",
      "1 0 1 1 2 2 2 \n",
      "2 1 0 1 1 1 1 \n",
      "1 1 1 0 2 2 2 \n",
      "3 2 1 2 0 2 2 \n",
      "3 2 1 2 2 0 1 \n",
      "3 2 1 2 2 1 0 \n"
     ]
    }
   ],
   "source": [
    "print(\"d) Distance matrix:\")\n",
    "\n",
    "nodes = sorted(G.nodes())\n",
    "paths = nx.shortest_path(G)\n",
    "\n",
    "for i in nodes:\n",
    "    for j in nodes:\n",
    "        print(len(paths[i][j]) - 1, end=\" \")\n",
    "    print()"
   ]
  },
  {
   "cell_type": "code",
   "execution_count": 118,
   "metadata": {},
   "outputs": [
    {
     "name": "stdout",
     "output_type": "stream",
     "text": [
      "e) Entropy: 1.8423709931771084\n",
      "f) Second moment: 7.999999999999999\n"
     ]
    }
   ],
   "source": [
    "nodes = [ i for i in G.nodes() ]\n",
    "degs = [ G.degree[n] for n in nodes ] \n",
    "\n",
    "freqs = dict()\n",
    "for deg in np.unique(degs):\n",
    "    freqs[deg] = sum(degs == deg)\n",
    "\n",
    "def prob(x):\n",
    "    if x not in freqs:\n",
    "        return 0\n",
    "    else:\n",
    "        return freqs[x] / sum(freqs.values())\n",
    "\n",
    "probs = [ prob(i) for i in range(0, 100) ]\n",
    "entropy = -sum([ p*np.log2(p) for p in probs if p != 0])\n",
    "\n",
    "print(\"e) Entropy: {}\".format(entropy))\n",
    "print(\"f) Second moment: {}\".format(sum([ i**2 * probs[i] for i in range(0, 100) ])))"
   ]
  },
  {
   "cell_type": "markdown",
   "metadata": {},
   "source": [
    "### All results match!"
   ]
  },
  {
   "cell_type": "markdown",
   "metadata": {},
   "source": [
    "# Problem 2"
   ]
  }
 ],
 "metadata": {
  "kernelspec": {
   "display_name": "Python 3",
   "language": "python",
   "name": "python3"
  },
  "language_info": {
   "codemirror_mode": {
    "name": "ipython",
    "version": 3
   },
   "file_extension": ".py",
   "mimetype": "text/x-python",
   "name": "python",
   "nbconvert_exporter": "python",
   "pygments_lexer": "ipython3",
   "version": "3.6.7"
  }
 },
 "nbformat": 4,
 "nbformat_minor": 2
}
