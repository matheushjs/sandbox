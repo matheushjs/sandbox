{
 "cells": [
  {
   "cell_type": "markdown",
   "metadata": {},
   "source": [
    "# Problem 1"
   ]
  },
  {
   "cell_type": "markdown",
   "metadata": {},
   "source": [
    "a) The degree of each node is as follows:\n",
    "\n",
    "- Node 1: 2\n",
    "- Node 2: 3\n",
    "- Node 3: 5\n",
    "- Node 4: 3\n",
    "- Node 5: 1\n",
    "- Node 6: 2\n",
    "- Node 7: 2\n",
    "\n",
    "The relative frequency of degrees (which is precisely the degree disribution) is, thus:\n",
    "\n",
    "- Degree 1: $P(1) = 1 / 7$\n",
    "- Degree 2: $P(2) = 3 / 7$\n",
    "- Degree 3: $P(3) = 2 / 7$\n",
    "- Degree 4: $P(4) = 0 / 7$\n",
    "- Degree 5: $P(5) = 1 / 7$"
   ]
  },
  {
   "cell_type": "markdown",
   "metadata": {},
   "source": [
    "b) The local clustering coefficient of a node $i$ is given by\n",
    "\n",
    "$$\n",
    "c_i = \\frac{e_i}{k_i \\cdot (k_i - 1)\\ /\\ 2}\n",
    "$$\n",
    "\n",
    "Where $e_i$ is the number of edges in the subgraph $G_i$ of neighbors of node $i$, $k_i$ is the degree of node $i$.\n",
    "\n",
    "The local clustering coefficient of each node is therefore:\n",
    "\n",
    "- Node 1: $1 / 1$\n",
    "- Node 2: $2 / 3$\n",
    "- Node 3: $2 / 10$\n",
    "- Node 4: $2 / 3$\n",
    "- Node 5: $0 / 0$\n",
    "- Node 6: $1 / 1$\n",
    "- Node 7: $1 / 1$"
   ]
  },
  {
   "cell_type": "markdown",
   "metadata": {},
   "source": [
    "c) The difficulty here is to count the number of triads... Let's enumerate them:\n",
    "\n",
    "1. {1, 2, 4}\n",
    "1. {1, 4, 2}\n",
    "1. {1, 2, 3}\n",
    "1. {1, 4, 3}\n",
    "1. {2, 1, 4}\n",
    "1. {2, 4, 1}\n",
    "1. {2, 4, 3}\n",
    "1. {2, 3, 4}\n",
    "1. {2, 3, 6}\n",
    "1. {2, 3, 7}\n",
    "1. {2, 3, 5}\n",
    "1. {4, 1, 2}\n",
    "1. {4, 2, 1}\n",
    "1. {4, 3, 2}\n",
    "1. {4, 3, 6}\n",
    "1. {4, 3, 7}\n",
    "1. {4, 3, 5}\n",
    "1. {3, 4, 1}\n",
    "1. {3, 4, 2}\n",
    "1. {3, 2, 1}\n",
    "1. {3, 2, 4}\n",
    "1. {3, 6, 7}\n",
    "1. {3, 7, 6}\n",
    "1. {5, 3, 2}\n",
    "1. {5, 3, 4}\n",
    "1. {5, 3, 6}\n",
    "1. {5, 3, 7}\n",
    "1. {6, 7, 3}\n",
    "1. {6, 3, 7}\n",
    "1. {6, 3, 5}\n",
    "1. {6, 3, 4}\n",
    "1. {6, 3, 2}\n",
    "1. {7, 6, 3}\n",
    "1. {7, 3, 6}\n",
    "1. {7, 3, 4}\n",
    "1. {7, 3, 5}\n",
    "1. {7, 3, 2}\n",
    "\n",
    "\n",
    "The transitivity of the graph is then:\n",
    "\n",
    "$$\n",
    "\\frac{3 \\cdot no.\\ of\\ triangles}{no.\\ of\\ triads} = \\frac{3 \\cdot 3}{37} = \\frac{9}{37}\n",
    "$$"
   ]
  },
  {
   "cell_type": "markdown",
   "metadata": {},
   "source": [
    "d) The distance matrix is:\n",
    "\n",
    "$$\n",
    "\\begin{bmatrix}\n",
    "    0 & 1 & 2 & 1 & 3 & 3 & 3 \\\\\n",
    "    1 & 0 & 1 & 1 & 2 & 2 & 2 \\\\\n",
    "    2 & 1 & 0 & 1 & 1 & 1 & 1 \\\\\n",
    "    1 & 1 & 1 & 0 & 2 & 2 & 2 \\\\\n",
    "    3 & 2 & 1 & 2 & 0 & 2 & 2 \\\\\n",
    "    3 & 2 & 1 & 2 & 2 & 0 & 1 \\\\\n",
    "    3 & 2 & 1 & 2 & 2 & 1 & 0 \\\\\n",
    "\\end{bmatrix}\n",
    "$$"
   ]
  },
  {
   "cell_type": "markdown",
   "metadata": {},
   "source": [
    "e) The entropy is:\n",
    "\n",
    "$$\n",
    "E = -[ 1/7 \\cdot log_2(1/7) + 3/7 \\cdot log_2(3/7) + 2/7 \\cdot log_2(2/7) + 1/7 \\cdot log_2(1/7)] = 1.842371\n",
    "$$\n",
    "\n",
    "Where I have arbitrarily chosen the logarithm base as being 2 (I'm a computer scientist, after all)."
   ]
  },
  {
   "cell_type": "markdown",
   "metadata": {},
   "source": [
    "f) The second moment is\n",
    "\n",
    "$$\n",
    "    E(X^2) = \\sum_{x \\in X} x^2 \\cdot p(x) = 8\n",
    "$$"
   ]
  },
  {
   "cell_type": "code",
   "execution_count": null,
   "metadata": {},
   "outputs": [],
   "source": []
  }
 ],
 "metadata": {
  "kernelspec": {
   "display_name": "Python 3",
   "language": "python",
   "name": "python3"
  },
  "language_info": {
   "codemirror_mode": {
    "name": "ipython",
    "version": 3
   },
   "file_extension": ".py",
   "mimetype": "text/x-python",
   "name": "python",
   "nbconvert_exporter": "python",
   "pygments_lexer": "ipython3",
   "version": "3.6.7"
  }
 },
 "nbformat": 4,
 "nbformat_minor": 2
}
