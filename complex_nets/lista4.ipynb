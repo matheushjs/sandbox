{
 "cells": [
  {
   "cell_type": "code",
   "execution_count": 14,
   "metadata": {},
   "outputs": [],
   "source": [
    "import networkx as nx\n",
    "import numpy as np\n",
    "import pandas as pd\n",
    "import matplotlib.pyplot as plt\n",
    "import seaborn as sns\n",
    "import subprocess as sp\n",
    "import time\n",
    "import multiprocessing as mp\n",
    "import random\n",
    "colors = \"rgbcmykw\"\n",
    "getVals = lambda x: list(dict(x).values())\n",
    "getKeys = lambda x: list(dict(x).keys())"
   ]
  },
  {
   "cell_type": "code",
   "execution_count": 56,
   "metadata": {},
   "outputs": [
    {
     "name": "stdout",
     "output_type": "stream",
     "text": [
      "1 53 105 157 209 261 313 365 417 469 521 573 625 677 729 781 833 885 937 990 1 53 105 157 209 261 313 365 417 469 521 573 625 677 729 781 833 885 937 990 1 53 105 157 209 261 313 365 417 469 521 573 625 677 729 781 833 885 937 990 1 53 105 157 209 261 313 365 417 469 521 573 625 677 729 781 833 885 937 990 1 53 105 157 209 261 313 365 417 469 521 573 625 677 729 781 833 885 937 990 1 53 105 157 209 261 313 365 417 469 521 573 625 677 729 781 833 885 937 990 1 53 105 157 209 261 313 365 417 469 521 573 625 677 729 781 833 885 937 990 1 53 105 157 209 261 313 365 417 469 521 573 625 677 729 781 833 885 937 990 1 53 105 157 209 261 313 365 417 469 521 573 625 677 729 781 833 885 937 990 1 53 105 157 209 261 313 365 417 469 521 573 625 677 729 781 833 885 937 990 "
     ]
    }
   ],
   "source": [
    "def failures(G):\n",
    "    G = G.copy()\n",
    "    size = len(G.nodes)\n",
    "    fractionRemoved = []\n",
    "    fractionLargest = []\n",
    "    \n",
    "    nSteps = np.int32(np.linspace(1, int(0.99*size), num=20))\n",
    "    removalsPerStep = np.append([0], np.diff(nSteps)) # First run performs no removals\n",
    "\n",
    "    for n, removals in zip(nSteps, removalsPerStep):\n",
    "        print(n, end=\" \")\n",
    "        \n",
    "        for i in range(removals):\n",
    "            node = random.choice(list(G.nodes))\n",
    "            G.remove_node(node) \n",
    "        \n",
    "        largest = sorted(nx.connected_component_subgraphs(G), key = len, reverse=True)[0]\n",
    "        \n",
    "        fractionLargest.append(len(largest.nodes)/size) #store the size of the largest component\n",
    "        fractionRemoved.append(n/size)\n",
    "\n",
    "    return np.array(fractionLargest), np.array(fractionRemoved)\n",
    "\n",
    "def failuresAverage(graph_generator, repeat=10):\n",
    "    allLarg = None\n",
    "    allRem  = None\n",
    "    \n",
    "    for i in range(repeat):\n",
    "        larg, rem = failures(graph_generator())\n",
    "        \n",
    "        if allLarg is None:\n",
    "            allLarg = larg\n",
    "            allRem = rem\n",
    "        else:\n",
    "            allLarg = allLarg + larg\n",
    "            allRem  = allRem + rem\n",
    "    \n",
    "    return allLarg / repeat, allRem / repeat\n",
    "\n",
    "\n",
    "result = failuresAverage(lambda: nx.erdos_renyi_graph(1000, 0.001))"
   ]
  },
  {
   "cell_type": "code",
   "execution_count": 58,
   "metadata": {},
   "outputs": [
    {
     "data": {
      "text/plain": [
       "[<matplotlib.lines.Line2D at 0x7f28ddb2bc88>]"
      ]
     },
     "execution_count": 58,
     "metadata": {},
     "output_type": "execute_result"
    },
    {
     "data": {
      "image/png": "[encoded data removed]",
      "text/plain": [
       "<Figure size 432x288 with 1 Axes>"
      ]
     },
     "metadata": {
      "needs_background": "light"
     },
     "output_type": "display_data"
    }
   ],
   "source": [
    "plt.plot(result[0], result[1])"
   ]
  },
  {
   "cell_type": "code",
   "execution_count": null,
   "metadata": {},
   "outputs": [],
   "source": []
  }
 ],
 "metadata": {
  "kernelspec": {
   "display_name": "Python 3",
   "language": "python",
   "name": "python3"
  },
  "language_info": {
   "codemirror_mode": {
    "name": "ipython",
    "version": 3
   },
   "file_extension": ".py",
   "mimetype": "text/x-python",
   "name": "python",
   "nbconvert_exporter": "python",
   "pygments_lexer": "ipython3",
   "version": "3.6.8"
  }
 },
 "nbformat": 4,
 "nbformat_minor": 2
}
